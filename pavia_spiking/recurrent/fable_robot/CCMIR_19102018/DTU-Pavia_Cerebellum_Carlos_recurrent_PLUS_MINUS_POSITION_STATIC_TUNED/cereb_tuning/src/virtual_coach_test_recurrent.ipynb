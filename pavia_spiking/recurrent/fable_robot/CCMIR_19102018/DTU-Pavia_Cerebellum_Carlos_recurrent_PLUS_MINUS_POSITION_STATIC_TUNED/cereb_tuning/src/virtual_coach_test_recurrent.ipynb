{
 "cells": [
  {
   "cell_type": "code",
   "execution_count": 1,
   "metadata": {},
   "outputs": [],
   "source": [
    "import rospy\n",
    "from hbp_nrp_virtual_coach.virtual_coach import VirtualCoach\n",
    "import os, shutil\n",
    "\n",
    "from ipywidgets import FloatProgress\n",
    "from IPython.display import display\n",
    "import time"
   ]
  },
  {
   "cell_type": "code",
   "execution_count": 2,
   "metadata": {},
   "outputs": [
    {
     "name": "stdout",
     "output_type": "stream",
     "text": [
      "INFO: [2018-10-02 13:22:33,973 - Configuration] Loading configuration file config.json\n",
      "INFO: [2018-10-02 13:22:33,975 - Configuration] Using user specified environment: local\n",
      "WARNING: [2018-10-02 13:22:33,976 - VirtualCoach] No OIDC username supplied, simulation services will fail if OIDC is enabled in this environment (local).\n",
      "INFO: [2018-10-02 13:22:33,977 - VirtualCoach] Logging into the Storage Server as: nrpuser\n",
      "········\n",
      "INFO: [2018-10-02 13:22:37,499 - VirtualCoach] Ready.\n"
     ]
    }
   ],
   "source": [
    "vc = VirtualCoach(environment='local', storage_username='nrpuser')\n",
    "# Type \"password\""
   ]
  },
  {
   "cell_type": "code",
   "execution_count": 3,
   "metadata": {},
   "outputs": [],
   "source": [
    "configName = \"fable_cerebellum_recurrent\""
   ]
  },
  {
   "cell_type": "code",
   "execution_count": 15,
   "metadata": {
    "scrolled": true
   },
   "outputs": [
    {
     "name": "stdout",
     "output_type": "stream",
     "text": [
      "Going to delete everything here:\n",
      "You sure? (y/n)y\n",
      "Success\n"
     ]
    }
   ],
   "source": [
    "folder = \"/home/dtu-neurorobotics/Documents/workspace/Projects/DTU-Pavia_Cerebellum_Carlos_recurrent/cereb_tuning/results/\"\n",
    "test = \"1\"\n",
    "folder = folder+test\n",
    "try:\n",
    "    file_list = os.listdir(folder)\n",
    "except Exception as e:\n",
    "    print(\"Creating experiment folder: \" + test)\n",
    "    os.mkdir(folder)\n",
    "    file_list = os.listdir(folder)\n",
    "    \n",
    "    \n",
    "        \n",
    "if len(file_list):\n",
    "    print(\"Going to delete everything here:\")\n",
    "    #print(file_list)\n",
    "    answer = raw_input(\"You sure? (y/n)\")\n",
    "\n",
    "    if answer == \"y\":\n",
    "        \n",
    "        for the_file in os.listdir(folder):\n",
    "            file_path = os.path.join(folder, the_file)\n",
    "            try:\n",
    "                if os.path.isfile(file_path):\n",
    "                    os.unlink(file_path)\n",
    "                elif os.path.isdir(file_path): \n",
    "                    shutil.rmtree(file_path)\n",
    "\n",
    "            except Exception as e:\n",
    "                print(e)\n",
    "\n",
    "        print(\"Success\")\n",
    "    else:\n",
    "        print(\"Cancelled\")\n",
    "else:\n",
    "    print(\"Empty directory\")"
   ]
  },
  {
   "cell_type": "code",
   "execution_count": 16,
   "metadata": {},
   "outputs": [
    {
     "name": "stdout",
     "output_type": "stream",
     "text": [
      "INFO: [2018-10-02 13:30:54,880 - VirtualCoach] Retrieving list of experiments.\n",
      "INFO: [2018-10-02 13:30:54,903 - VirtualCoach] Experiment \"fable_cerebellum_recurrent\" cloned successfully\n",
      "fable_manipulation_dtu_spiking_cereb_recurrent_0\n"
     ]
    }
   ],
   "source": [
    "experiment = vc.clone_experiment_to_storage(configName)\n",
    "print(experiment)"
   ]
  },
  {
   "cell_type": "code",
   "execution_count": 17,
   "metadata": {},
   "outputs": [
    {
     "name": "stdout",
     "output_type": "stream",
     "text": [
      "INFO: [2018-10-02 13:30:58,347 - VirtualCoach] Preparing to launch fable_manipulation_dtu_spiking_cereb_recurrent_0.\n",
      "INFO: [2018-10-02 13:30:58,351 - VirtualCoach] Retrieving list of experiments.\n",
      "INFO: [2018-10-02 13:30:58,365 - VirtualCoach] Retrieving list of available servers.\n",
      "[{u'gzweb': {u'assets': u'http://localhost:8080/assets',\n",
      "             u'nrp-services': u'http://localhost:8080',\n",
      "             u'videoStreaming': u'http://localhost:8080/webstream/',\n",
      "             u'websocket': u'ws://localhost:8080/gzbridge'},\n",
      "  u'id': u'localhost',\n",
      "  u'rosbridge': {u'websocket': u'ws://localhost:8080/rosbridge'},\n",
      "  u'serverJobLocation': u'local'}]\n",
      "INFO: [2018-10-02 13:30:58,374 - Simulation] Attempting to launch fable_manipulation_dtu_spiking_cereb_recurrent_0 on localhost.\n",
      "INFO: [2018-10-02 13:31:07,595 - Simulation (fable_manipulation_dtu_spiking_cereb_recurrent_0 - localhost #1)] Simulation Successfully Created.\n",
      "INFO: [2018-10-02 13:31:07,600 - Simulation (fable_manipulation_dtu_spiking_cereb_recurrent_0 - localhost #1)] Ready.\n"
     ]
    }
   ],
   "source": [
    "sim = vc.launch_experiment(experiment)"
   ]
  },
  {
   "cell_type": "code",
   "execution_count": 18,
   "metadata": {
    "scrolled": false
   },
   "outputs": [
    {
     "name": "stdout",
     "output_type": "stream",
     "text": [
      "INFO: [2018-10-02 13:31:11,068 - Simulation (fable_manipulation_dtu_spiking_cereb_recurrent_0 - localhost #1)] Attempting to transition to state: started\n",
      "INFO: [2018-10-02 13:31:11,074 - Simulation (fable_manipulation_dtu_spiking_cereb_recurrent_0 - localhost #1)] Simulation state: started\n",
      "\n",
      "Start delta_t: 0.0 (Should be 0)\n",
      "Simulating 15 seconds. Simulation Progress:\n"
     ]
    },
    {
     "data": {
      "application/vnd.jupyter.widget-view+json": {
       "model_id": "c6f31cf5061348d7985fdb37b5d7e8c1",
       "version_major": 2,
       "version_minor": 0
      },
      "text/html": [
       "<p>Failed to display Jupyter Widget of type <code>FloatProgress</code>.</p>\n",
       "<p>\n",
       "  If you're reading this message in the Jupyter Notebook or JupyterLab Notebook, it may mean\n",
       "  that the widgets JavaScript is still loading. If this message persists, it\n",
       "  likely means that the widgets JavaScript library is either not installed or\n",
       "  not enabled. See the <a href=\"https://ipywidgets.readthedocs.io/en/stable/user_install.html\">Jupyter\n",
       "  Widgets Documentation</a> for setup instructions.\n",
       "</p>\n",
       "<p>\n",
       "  If you're reading this message in another frontend (for example, a static\n",
       "  rendering on GitHub or <a href=\"https://nbviewer.jupyter.org/\">NBViewer</a>),\n",
       "  it may mean that your frontend doesn't currently support widgets.\n",
       "</p>\n"
      ],
      "text/plain": [
       "FloatProgress(value=0.0, max=15.0)"
      ]
     },
     "metadata": {},
     "output_type": "display_data"
    },
    {
     "name": "stdout",
     "output_type": "stream",
     "text": [
      "INFO: [2018-10-02 13:33:41,227 - Simulation (fable_manipulation_dtu_spiking_cereb_recurrent_0 - localhost #1)] Attempting to transition to state: paused\n",
      "INFO: [2018-10-02 13:33:41,231 - Simulation (fable_manipulation_dtu_spiking_cereb_recurrent_0 - localhost #1)] Simulation state: paused\n",
      "\n",
      "Simulation paused at: 15.209, executed in 150.157582998 sec\n"
     ]
    }
   ],
   "source": [
    "run_time = 15\n",
    "\n",
    "sim.start()\n",
    "\n",
    "walltime_start = time.time()\n",
    "\n",
    "time_started = rospy.Time.now()\n",
    "delta_t = rospy.Time.now() - time_started\n",
    "\n",
    "print(\"\\nStart delta_t: \" + str(delta_t.to_sec()) + \" (Should be 0)\")\n",
    "\n",
    "f = FloatProgress(min=0, max=run_time) # instantiate the bar\n",
    "\n",
    "print(\"Simulating \" + str(run_time) + \" seconds. Simulation Progress:\")\n",
    "display(f) # display the bar\n",
    "\n",
    "offset = rospy.Duration(0)\n",
    "first_run = True\n",
    "try:\n",
    "    while delta_t.to_sec() < run_time:\n",
    "        delta_t = rospy.Time.now() - time_started - offset\n",
    "        \n",
    "        if first_run:\n",
    "            if delta_t.to_sec() < 0:\n",
    "                offset = delta_t\n",
    "            first_runt = False\n",
    "            \n",
    "        #print delta_t.to_sec(), \"(Time offset: \",offset.to_sec(), \")\"\n",
    "        f.value = delta_t.to_sec()\n",
    "        time.sleep(3)\n",
    "except KeyboardInterrupt:\n",
    "    pass\n",
    "\n",
    "f.bar_style='danger'\n",
    "\n",
    "sim.pause()\n",
    "#sim.stop()\n",
    "walltime_end = time.time()\n",
    "print(\"\\nSimulation paused at: \" + str(delta_t.to_sec()) + \", executed in \" + str(walltime_end - walltime_start) + \" sec\")"
   ]
  },
  {
   "cell_type": "code",
   "execution_count": 8,
   "metadata": {},
   "outputs": [
    {
     "name": "stdout",
     "output_type": "stream",
     "text": [
      "INFO: [2018-10-02 13:28:59,277 - Simulation (fable_manipulation_dtu_spiking_cereb_recurrent_1 - localhost #0)] Attempting to transition to state: stopped\n",
      "INFO: [2018-10-02 13:29:00,151 - Simulation (fable_manipulation_dtu_spiking_cereb_recurrent_1 - localhost #0)] Simulation has been stopped.\n",
      "INFO: [2018-10-02 13:29:00,290 - Simulation (fable_manipulation_dtu_spiking_cereb_recurrent_1 - localhost #0)] Simulation state: stopped\n",
      "INFO: [2018-10-02 13:29:00,291 - VirtualCoach] Retrieving list of experiments.\n",
      "INFO: [2018-10-02 13:29:00,305 - VirtualCoach] Experiment \"fable_manipulation_dtu_spiking_cereb_recurrent_1\" deleted successfully\n"
     ]
    }
   ],
   "source": [
    "sim.stop()\n",
    "vc.delete_cloned_experiment(experiment)"
   ]
  },
  {
   "cell_type": "code",
   "execution_count": 12,
   "metadata": {},
   "outputs": [
    {
     "name": "stdout",
     "output_type": "stream",
     "text": [
      "INFO: [2018-10-02 13:29:06,808 - VirtualCoach] Retrieving list of experiments.\n",
      "+--------------------------------------------------+\n",
      "|                       Name                       |\n",
      "+==================================================+\n",
      "| fable_manipulation_dtu_spiking_cereb_recurrent_0 |\n",
      "+--------------------------------------------------+\n"
     ]
    }
   ],
   "source": [
    "vc.print_cloned_experiments()"
   ]
  },
  {
   "cell_type": "code",
   "execution_count": null,
   "metadata": {},
   "outputs": [],
   "source": []
  },
  {
   "cell_type": "code",
   "execution_count": null,
   "metadata": {},
   "outputs": [],
   "source": []
  },
  {
   "cell_type": "code",
   "execution_count": null,
   "metadata": {},
   "outputs": [],
   "source": []
  },
  {
   "cell_type": "code",
   "execution_count": 36,
   "metadata": {
    "scrolled": true
   },
   "outputs": [
    {
     "name": "stdout",
     "output_type": "stream",
     "text": [
      "INFO: [2018-10-02 08:46:47,862 - Simulation (fable_manipulation_dtu_spiking_cereb_recurrent_0 - localhost #17)] Attempting to retrieve recorders' csv data\n",
      "[u'command.csv', u'joint_info.csv']\n",
      "INFO: [2018-10-02 08:46:47,916 - Simulation (fable_manipulation_dtu_spiking_cereb_recurrent_0 - localhost #17)] Saved CSV data\n",
      "INFO: [2018-10-02 08:46:47,919 - Simulation (fable_manipulation_dtu_spiking_cereb_recurrent_0 - localhost #17)] Attempting to transition to state: stopped\n",
      "INFO: [2018-10-02 08:46:48,860 - Simulation (fable_manipulation_dtu_spiking_cereb_recurrent_0 - localhost #17)] Simulation has been stopped.\n",
      "INFO: [2018-10-02 08:46:48,930 - Simulation (fable_manipulation_dtu_spiking_cereb_recurrent_0 - localhost #17)] Simulation state: stopped\n"
     ]
    }
   ],
   "source": [
    "sim.print_csv_file_names()\n",
    "sim.save_csv()\n",
    "\n",
    "###csv_data = {'planner_TF' : sim.get_csv_data('joint_info.csv'), \n",
    "###            'controller_TF': sim.get_csv_data('command.csv')}\n",
    "\n",
    "csv_directory = \"/home/dtu-neurorobotics/.opt/nrpStorage/\" + experiment +\"/\"\n",
    "\n",
    "file_list = os.listdir(csv_directory)\n",
    "for i in file_list:\n",
    "    if os.path.isdir(csv_directory+i):\n",
    "        shutil.copyfile(csv_directory+i+\"/\"+\"joint_info.csv\", folder+\"/\"+\"joint_info.csv\")\n",
    "        shutil.copyfile(csv_directory+i+\"/\"+\"command.csv\", folder+\"/\"+\"command.csv\")\n",
    "\n",
    "###print \"\\nLaste entry in CSV at time :\", csv_data['planner_TF'][-1][0]\n",
    "###print \"\"\n",
    "\n",
    "sim.stop()\n"
   ]
  },
  {
   "cell_type": "code",
   "execution_count": 70,
   "metadata": {
    "scrolled": false
   },
   "outputs": [
    {
     "name": "stdout",
     "output_type": "stream",
     "text": [
      "INFO: [2018-10-02 11:28:21,311 - Simulation (fable_manipulation_dtu_spiking_cereb_recurrent_0 - localhost #22)] Attempting to transition to state: stopped\n",
      "INFO: [2018-10-02 11:28:22,325 - Simulation (fable_manipulation_dtu_spiking_cereb_recurrent_0 - localhost #22)] Simulation state: stopped\n",
      "INFO: [2018-10-02 11:28:22,328 - VirtualCoach] Retrieving list of experiments.\n",
      "INFO: [2018-10-02 11:28:22,341 - VirtualCoach] Experiment \"fable_manipulation_dtu_spiking_cereb_recurrent_0\" deleted successfully\n"
     ]
    }
   ],
   "source": [
    "sim.stop()\n",
    "vc.delete_cloned_experiment(experiment)"
   ]
  },
  {
   "cell_type": "code",
   "execution_count": 71,
   "metadata": {
    "scrolled": false
   },
   "outputs": [
    {
     "name": "stdout",
     "output_type": "stream",
     "text": [
      "INFO: [2018-10-02 11:28:25,917 - VirtualCoach] Retrieving list of experiments.\n",
      "+------+\n",
      "| Name |\n",
      "+======+\n",
      "+------+\n"
     ]
    }
   ],
   "source": [
    "vc.print_cloned_experiments()"
   ]
  },
  {
   "cell_type": "code",
   "execution_count": null,
   "metadata": {},
   "outputs": [],
   "source": []
  },
  {
   "cell_type": "code",
   "execution_count": null,
   "metadata": {},
   "outputs": [],
   "source": []
  },
  {
   "cell_type": "code",
   "execution_count": 334,
   "metadata": {
    "scrolled": false
   },
   "outputs": [
    {
     "name": "stdout",
     "output_type": "stream",
     "text": [
      "INFO: [2018-09-26 11:38:18,299 - Simulation (fable_manipulation_dtu_spiking_cereb_v2.0_0 - localhost #94)] Attempting to transition to state: stopped\n",
      "ERROR: [2018-09-26 11:38:18,303 - bbp_client.oidc.client] Failed to retrieve data: Internal Server Error\n"
     ]
    },
    {
     "ename": "HTTPError",
     "evalue": "HTTP Error 500: Invalid response 500.",
     "output_type": "error",
     "traceback": [
      "\u001b[0;31m---------------------------------------------------------------------------\u001b[0m",
      "\u001b[0;31mHTTPError\u001b[0m                                 Traceback (most recent call last)",
      "\u001b[0;32m<ipython-input-334-ef975fe1ddc3>\u001b[0m in \u001b[0;36m<module>\u001b[0;34m()\u001b[0m\n\u001b[0;32m----> 1\u001b[0;31m \u001b[0msim\u001b[0m\u001b[0;34m.\u001b[0m\u001b[0mstop\u001b[0m\u001b[0;34m(\u001b[0m\u001b[0;34m)\u001b[0m\u001b[0;34m\u001b[0m\u001b[0m\n\u001b[0m",
      "\u001b[0;32m/home/dtu-neurorobotics/Documents/NRP/VirtualCoach/hbp_nrp_virtual_coach/hbp_nrp_virtual_coach/simulation.pyc\u001b[0m in \u001b[0;36mstop\u001b[0;34m(self)\u001b[0m\n\u001b[1;32m    191\u001b[0m             \u001b[0mself\u001b[0m\u001b[0;34m.\u001b[0m\u001b[0m__error_sub\u001b[0m \u001b[0;34m=\u001b[0m \u001b[0mNone\u001b[0m\u001b[0;34m\u001b[0m\u001b[0m\n\u001b[1;32m    192\u001b[0m \u001b[0;34m\u001b[0m\u001b[0m\n\u001b[0;32m--> 193\u001b[0;31m         \u001b[0mself\u001b[0m\u001b[0;34m.\u001b[0m\u001b[0m__set_state\u001b[0m\u001b[0;34m(\u001b[0m\u001b[0;34m'stopped'\u001b[0m\u001b[0;34m)\u001b[0m\u001b[0;34m\u001b[0m\u001b[0m\n\u001b[0m\u001b[1;32m    194\u001b[0m \u001b[0;34m\u001b[0m\u001b[0m\n\u001b[1;32m    195\u001b[0m     \u001b[0;32mdef\u001b[0m \u001b[0mregister_status_callback\u001b[0m\u001b[0;34m(\u001b[0m\u001b[0mself\u001b[0m\u001b[0;34m,\u001b[0m \u001b[0mcallback\u001b[0m\u001b[0;34m)\u001b[0m\u001b[0;34m:\u001b[0m\u001b[0;34m\u001b[0m\u001b[0m\n",
      "\u001b[0;32m/home/dtu-neurorobotics/Documents/NRP/VirtualCoach/hbp_nrp_virtual_coach/hbp_nrp_virtual_coach/simulation.pyc\u001b[0m in \u001b[0;36m__set_state\u001b[0;34m(self, state)\u001b[0m\n\u001b[1;32m    238\u001b[0m         \u001b[0mself\u001b[0m\u001b[0;34m.\u001b[0m\u001b[0m__logger\u001b[0m\u001b[0;34m.\u001b[0m\u001b[0minfo\u001b[0m\u001b[0;34m(\u001b[0m\u001b[0;34m'Attempting to transition to state: %s'\u001b[0m\u001b[0;34m,\u001b[0m \u001b[0mstate\u001b[0m\u001b[0;34m)\u001b[0m\u001b[0;34m\u001b[0m\u001b[0m\n\u001b[1;32m    239\u001b[0m         \u001b[0murl\u001b[0m \u001b[0;34m=\u001b[0m \u001b[0;34m'%s/%s'\u001b[0m \u001b[0;34m%\u001b[0m \u001b[0;34m(\u001b[0m\u001b[0mself\u001b[0m\u001b[0;34m.\u001b[0m\u001b[0m__sim_url\u001b[0m\u001b[0;34m,\u001b[0m \u001b[0mself\u001b[0m\u001b[0;34m.\u001b[0m\u001b[0m__config\u001b[0m\u001b[0;34m[\u001b[0m\u001b[0;34m'simulation-services'\u001b[0m\u001b[0;34m]\u001b[0m\u001b[0;34m[\u001b[0m\u001b[0;34m'state'\u001b[0m\u001b[0;34m]\u001b[0m\u001b[0;34m)\u001b[0m\u001b[0;34m\u001b[0m\u001b[0m\n\u001b[0;32m--> 240\u001b[0;31m         \u001b[0mres\u001b[0m\u001b[0;34m,\u001b[0m \u001b[0m_\u001b[0m \u001b[0;34m=\u001b[0m \u001b[0mself\u001b[0m\u001b[0;34m.\u001b[0m\u001b[0m__oidc_client\u001b[0m\u001b[0;34m.\u001b[0m\u001b[0mrequest\u001b[0m\u001b[0;34m(\u001b[0m\u001b[0murl\u001b[0m\u001b[0;34m,\u001b[0m \u001b[0mmethod\u001b[0m\u001b[0;34m=\u001b[0m\u001b[0;34m'PUT'\u001b[0m\u001b[0;34m,\u001b[0m \u001b[0mbody\u001b[0m\u001b[0;34m=\u001b[0m\u001b[0mjson\u001b[0m\u001b[0;34m.\u001b[0m\u001b[0mdumps\u001b[0m\u001b[0;34m(\u001b[0m\u001b[0;34m{\u001b[0m\u001b[0;34m'state'\u001b[0m\u001b[0;34m:\u001b[0m \u001b[0mstate\u001b[0m\u001b[0;34m}\u001b[0m\u001b[0;34m)\u001b[0m\u001b[0;34m)\u001b[0m\u001b[0;34m\u001b[0m\u001b[0m\n\u001b[0m\u001b[1;32m    241\u001b[0m \u001b[0;34m\u001b[0m\u001b[0m\n\u001b[1;32m    242\u001b[0m         \u001b[0;31m# check the return code, this will return OK if the REST call succeeds\u001b[0m\u001b[0;34m\u001b[0m\u001b[0;34m\u001b[0m\u001b[0m\n",
      "\u001b[0;32m/home/dtu-neurorobotics/.opt/platform_venv/lib/python2.7/site-packages/bbp_client/oidc/client.pyc\u001b[0m in \u001b[0;36mrequest\u001b[0;34m(self, uri, method, body, headers, params)\u001b[0m\n\u001b[1;32m    409\u001b[0m \u001b[0;34m\u001b[0m\u001b[0m\n\u001b[1;32m    410\u001b[0m         \u001b[0mresp\u001b[0m\u001b[0;34m,\u001b[0m \u001b[0mcontent\u001b[0m \u001b[0;34m=\u001b[0m \u001b[0mself\u001b[0m\u001b[0;34m.\u001b[0m\u001b[0mhttp\u001b[0m\u001b[0;34m.\u001b[0m\u001b[0mrequest\u001b[0m\u001b[0;34m(\u001b[0m\u001b[0muri\u001b[0m\u001b[0;34m,\u001b[0m \u001b[0mmethod\u001b[0m\u001b[0;34m,\u001b[0m \u001b[0mbody\u001b[0m\u001b[0;34m,\u001b[0m \u001b[0mheaders\u001b[0m\u001b[0;34m)\u001b[0m\u001b[0;34m\u001b[0m\u001b[0m\n\u001b[0;32m--> 411\u001b[0;31m         \u001b[0m_verify_request\u001b[0m\u001b[0;34m(\u001b[0m\u001b[0muri\u001b[0m\u001b[0;34m,\u001b[0m \u001b[0mresp\u001b[0m\u001b[0;34m.\u001b[0m\u001b[0mstatus\u001b[0m\u001b[0;34m,\u001b[0m \u001b[0mcontent\u001b[0m\u001b[0;34m)\u001b[0m\u001b[0;34m\u001b[0m\u001b[0m\n\u001b[0m\u001b[1;32m    412\u001b[0m         \u001b[0;32mreturn\u001b[0m \u001b[0mresp\u001b[0m\u001b[0;34m,\u001b[0m \u001b[0mcontent\u001b[0m\u001b[0;34m\u001b[0m\u001b[0m\n\u001b[1;32m    413\u001b[0m \u001b[0;34m\u001b[0m\u001b[0m\n",
      "\u001b[0;32m/home/dtu-neurorobotics/.opt/platform_venv/lib/python2.7/site-packages/bbp_client/oidc/client.pyc\u001b[0m in \u001b[0;36m_verify_request\u001b[0;34m(uri, status, content)\u001b[0m\n\u001b[1;32m    470\u001b[0m         \u001b[0mL\u001b[0m\u001b[0;34m.\u001b[0m\u001b[0merror\u001b[0m\u001b[0;34m(\u001b[0m\u001b[0;34m'Failed to retrieve data: %s'\u001b[0m\u001b[0;34m,\u001b[0m \u001b[0mcontent\u001b[0m\u001b[0;34m)\u001b[0m\u001b[0;34m\u001b[0m\u001b[0m\n\u001b[1;32m    471\u001b[0m         \u001b[0merror_msg\u001b[0m \u001b[0;34m=\u001b[0m \u001b[0;34m'Invalid response %s.'\u001b[0m \u001b[0;34m%\u001b[0m \u001b[0mstatus\u001b[0m\u001b[0;34m\u001b[0m\u001b[0m\n\u001b[0;32m--> 472\u001b[0;31m         \u001b[0;32mraise\u001b[0m \u001b[0mHTTPError\u001b[0m\u001b[0;34m(\u001b[0m\u001b[0muri\u001b[0m\u001b[0;34m,\u001b[0m \u001b[0mstatus\u001b[0m\u001b[0;34m,\u001b[0m \u001b[0merror_msg\u001b[0m\u001b[0;34m,\u001b[0m \u001b[0mNone\u001b[0m\u001b[0;34m,\u001b[0m \u001b[0mNone\u001b[0m\u001b[0;34m)\u001b[0m\u001b[0;34m\u001b[0m\u001b[0m\n\u001b[0m",
      "\u001b[0;31mHTTPError\u001b[0m: HTTP Error 500: Invalid response 500."
     ]
    }
   ],
   "source": [
    "sim.stop()"
   ]
  },
  {
   "cell_type": "code",
   "execution_count": 123,
   "metadata": {
    "scrolled": false
   },
   "outputs": [
    {
     "name": "stdout",
     "output_type": "stream",
     "text": [
      "INFO: [2018-09-18 12:41:29,073 - Simulation (fable_manipulation_dtu_spiking_cereb_v2.0_0 - localhost #13)] Attempting to retrieve recorders' csv data\n",
      "[]\n",
      "INFO: [2018-09-18 12:41:29,091 - Simulation (fable_manipulation_dtu_spiking_cereb_v2.0_0 - localhost #13)] Saved CSV data\n"
     ]
    },
    {
     "ename": "IOError",
     "evalue": "[Errno 2] No such file or directory: '/home/dtu-neurorobotics/.opt/nrpStorage/fable_manipulation_dtu_spiking_cereb_v2.0_0/csv_records_2018-09-18_12-41-29/joint_info.csv'",
     "output_type": "error",
     "traceback": [
      "\u001b[0;31m---------------------------------------------------------------------------\u001b[0m",
      "\u001b[0;31mIOError\u001b[0m                                   Traceback (most recent call last)",
      "\u001b[0;32m<ipython-input-123-7a81d8aafd2f>\u001b[0m in \u001b[0;36m<module>\u001b[0;34m()\u001b[0m\n\u001b[1;32m     10\u001b[0m \u001b[0;32mfor\u001b[0m \u001b[0mi\u001b[0m \u001b[0;32min\u001b[0m \u001b[0mfile_list\u001b[0m\u001b[0;34m:\u001b[0m\u001b[0;34m\u001b[0m\u001b[0m\n\u001b[1;32m     11\u001b[0m     \u001b[0;32mif\u001b[0m \u001b[0mos\u001b[0m\u001b[0;34m.\u001b[0m\u001b[0mpath\u001b[0m\u001b[0;34m.\u001b[0m\u001b[0misdir\u001b[0m\u001b[0;34m(\u001b[0m\u001b[0mcsv_directory\u001b[0m\u001b[0;34m+\u001b[0m\u001b[0mi\u001b[0m\u001b[0;34m)\u001b[0m\u001b[0;34m:\u001b[0m\u001b[0;34m\u001b[0m\u001b[0m\n\u001b[0;32m---> 12\u001b[0;31m         \u001b[0mshutil\u001b[0m\u001b[0;34m.\u001b[0m\u001b[0mcopyfile\u001b[0m\u001b[0;34m(\u001b[0m\u001b[0mcsv_directory\u001b[0m\u001b[0;34m+\u001b[0m\u001b[0mi\u001b[0m\u001b[0;34m+\u001b[0m\u001b[0;34m\"/\"\u001b[0m\u001b[0;34m+\u001b[0m\u001b[0;34m\"joint_info.csv\"\u001b[0m\u001b[0;34m,\u001b[0m \u001b[0mfolder\u001b[0m\u001b[0;34m+\u001b[0m\u001b[0;34m\"/\"\u001b[0m\u001b[0;34m+\u001b[0m\u001b[0;34m\"joint_info.csv\"\u001b[0m\u001b[0;34m)\u001b[0m\u001b[0;34m\u001b[0m\u001b[0m\n\u001b[0m\u001b[1;32m     13\u001b[0m         \u001b[0mshutil\u001b[0m\u001b[0;34m.\u001b[0m\u001b[0mcopyfile\u001b[0m\u001b[0;34m(\u001b[0m\u001b[0mcsv_directory\u001b[0m\u001b[0;34m+\u001b[0m\u001b[0mi\u001b[0m\u001b[0;34m+\u001b[0m\u001b[0;34m\"/\"\u001b[0m\u001b[0;34m+\u001b[0m\u001b[0;34m\"command.csv\"\u001b[0m\u001b[0;34m,\u001b[0m \u001b[0mfolder\u001b[0m\u001b[0;34m+\u001b[0m\u001b[0;34m\"/\"\u001b[0m\u001b[0;34m+\u001b[0m\u001b[0;34m\"command.csv\"\u001b[0m\u001b[0;34m)\u001b[0m\u001b[0;34m\u001b[0m\u001b[0m\n\u001b[1;32m     14\u001b[0m \u001b[0;34m\u001b[0m\u001b[0m\n",
      "\u001b[0;32m/usr/lib/python2.7/shutil.pyc\u001b[0m in \u001b[0;36mcopyfile\u001b[0;34m(src, dst)\u001b[0m\n\u001b[1;32m     80\u001b[0m                 \u001b[0;32mraise\u001b[0m \u001b[0mSpecialFileError\u001b[0m\u001b[0;34m(\u001b[0m\u001b[0;34m\"`%s` is a named pipe\"\u001b[0m \u001b[0;34m%\u001b[0m \u001b[0mfn\u001b[0m\u001b[0;34m)\u001b[0m\u001b[0;34m\u001b[0m\u001b[0m\n\u001b[1;32m     81\u001b[0m \u001b[0;34m\u001b[0m\u001b[0m\n\u001b[0;32m---> 82\u001b[0;31m     \u001b[0;32mwith\u001b[0m \u001b[0mopen\u001b[0m\u001b[0;34m(\u001b[0m\u001b[0msrc\u001b[0m\u001b[0;34m,\u001b[0m \u001b[0;34m'rb'\u001b[0m\u001b[0;34m)\u001b[0m \u001b[0;32mas\u001b[0m \u001b[0mfsrc\u001b[0m\u001b[0;34m:\u001b[0m\u001b[0;34m\u001b[0m\u001b[0m\n\u001b[0m\u001b[1;32m     83\u001b[0m         \u001b[0;32mwith\u001b[0m \u001b[0mopen\u001b[0m\u001b[0;34m(\u001b[0m\u001b[0mdst\u001b[0m\u001b[0;34m,\u001b[0m \u001b[0;34m'wb'\u001b[0m\u001b[0;34m)\u001b[0m \u001b[0;32mas\u001b[0m \u001b[0mfdst\u001b[0m\u001b[0;34m:\u001b[0m\u001b[0;34m\u001b[0m\u001b[0m\n\u001b[1;32m     84\u001b[0m             \u001b[0mcopyfileobj\u001b[0m\u001b[0;34m(\u001b[0m\u001b[0mfsrc\u001b[0m\u001b[0;34m,\u001b[0m \u001b[0mfdst\u001b[0m\u001b[0;34m)\u001b[0m\u001b[0;34m\u001b[0m\u001b[0m\n",
      "\u001b[0;31mIOError\u001b[0m: [Errno 2] No such file or directory: '/home/dtu-neurorobotics/.opt/nrpStorage/fable_manipulation_dtu_spiking_cereb_v2.0_0/csv_records_2018-09-18_12-41-29/joint_info.csv'"
     ]
    }
   ],
   "source": [
    "sim.print_csv_file_names()\n",
    "sim.save_csv()\n",
    "\n",
    "###csv_data = {'planner_TF' : sim.get_csv_data('joint_info.csv'), \n",
    "###            'controller_TF': sim.get_csv_data('command.csv')}\n",
    "\n",
    "csv_directory = \"/home/dtu-neurorobotics/.opt/nrpStorage/\" + experiment +\"/\"\n",
    "\n",
    "file_list = os.listdir(csv_directory)\n",
    "for i in file_list:\n",
    "    if os.path.isdir(csv_directory+i):\n",
    "        shutil.copyfile(csv_directory+i+\"/\"+\"joint_info.csv\", folder+\"/\"+\"joint_info.csv\")\n",
    "        shutil.copyfile(csv_directory+i+\"/\"+\"command.csv\", folder+\"/\"+\"command.csv\")\n",
    "\n",
    "###print \"\\nLaste entry in CSV at time :\", csv_data['planner_TF'][-1][0]\n",
    "###print \"\"\n",
    "\n",
    "sim.stop()\n"
   ]
  },
  {
   "cell_type": "code",
   "execution_count": 126,
   "metadata": {
    "scrolled": false
   },
   "outputs": [
    {
     "name": "stdout",
     "output_type": "stream",
     "text": [
      "INFO: [2018-09-18 12:44:55,080 - VirtualCoach] Retrieving list of experiments.\n",
      "INFO: [2018-09-18 12:44:55,094 - VirtualCoach] Experiment \"fable_manipulation_dtu_spiking_cereb_v2.0_0\" deleted successfully\n"
     ]
    }
   ],
   "source": [
    "vc.delete_cloned_experiment(experiment)"
   ]
  },
  {
   "cell_type": "code",
   "execution_count": 14,
   "metadata": {
    "scrolled": false
   },
   "outputs": [
    {
     "name": "stdout",
     "output_type": "stream",
     "text": [
      "INFO: [2018-10-02 13:29:18,352 - VirtualCoach] Retrieving list of experiments.\n",
      "+------+\n",
      "| Name |\n",
      "+======+\n",
      "+------+\n"
     ]
    }
   ],
   "source": [
    "vc.print_cloned_experiments()"
   ]
  },
  {
   "cell_type": "code",
   "execution_count": 13,
   "metadata": {},
   "outputs": [
    {
     "name": "stdout",
     "output_type": "stream",
     "text": [
      "INFO: [2018-10-02 13:29:15,133 - VirtualCoach] Retrieving list of experiments.\n",
      "INFO: [2018-10-02 13:29:15,151 - VirtualCoach] Experiment \"fable_manipulation_dtu_spiking_cereb_recurrent_0\" deleted successfully\n"
     ]
    }
   ],
   "source": [
    "vc.delete_cloned_experiment(\"fable_manipulation_dtu_spiking_cereb_recurrent_0\")"
   ]
  },
  {
   "cell_type": "code",
   "execution_count": null,
   "metadata": {},
   "outputs": [],
   "source": []
  },
  {
   "cell_type": "code",
   "execution_count": null,
   "metadata": {},
   "outputs": [],
   "source": []
  },
  {
   "cell_type": "code",
   "execution_count": null,
   "metadata": {},
   "outputs": [],
   "source": []
  },
  {
   "cell_type": "code",
   "execution_count": null,
   "metadata": {},
   "outputs": [],
   "source": []
  }
 ],
 "metadata": {
  "kernelspec": {
   "display_name": "Python 2",
   "language": "python",
   "name": "python2"
  },
  "language_info": {
   "codemirror_mode": {
    "name": "ipython",
    "version": 2
   },
   "file_extension": ".py",
   "mimetype": "text/x-python",
   "name": "python",
   "nbconvert_exporter": "python",
   "pygments_lexer": "ipython2",
   "version": "2.7.12"
  }
 },
 "nbformat": 4,
 "nbformat_minor": 2
}
